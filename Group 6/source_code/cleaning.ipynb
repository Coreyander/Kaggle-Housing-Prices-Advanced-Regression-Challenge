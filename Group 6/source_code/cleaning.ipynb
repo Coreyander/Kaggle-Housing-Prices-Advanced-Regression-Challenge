{
 "cells": [
  {
   "cell_type": "code",
   "execution_count": null,
   "metadata": {},
   "outputs": [],
   "source": [
    "import lightgbm as lgb\n",
    "import pandas as pd\n",
    "import numpy as np\n",
    "from sklearn.model_selection import train_test_split\n",
    "from sklearn import metrics\n",
    "\n",
    "test_data = pd.read_csv(\"test.csv\")\n",
    "train_data = pd.read_csv(\"train.csv\")\n"
   ]
  },
  {
   "cell_type": "code",
   "execution_count": null,
   "metadata": {},
   "outputs": [],
   "source": [
    "#Drop high null value attributes\n",
    "train_data.drop(['Alley','PoolQC','Fence','MiscFeature','LandSlope',\n",
    "                'Condition1','Condition2','Exterior1st','Exterior2nd'], axis = 1, inplace=True)\n",
    "test_data.drop(['Alley','PoolQC','Fence','MiscFeature','LandSlope',\n",
    "               'Condition1','Condition2','Exterior1st','Exterior2nd'], axis = 1, inplace=True)"
   ]
  },
  {
   "cell_type": "code",
   "execution_count": null,
   "metadata": {},
   "outputs": [],
   "source": [
    "#Clean out null values. Replace categorical null with \"Missing\" and numerical null with 0.\n",
    "for col in ('MSZoning','Utilities','MasVnrType',\n",
    "            'BsmtQual','BsmtCond','BsmtExposure','BsmtFinType1','BsmtFinType2',\n",
    "            'KitchenQual','Functional','FireplaceQu','GarageType','GarageFinish',\n",
    "            'GarageQual','GarageCond','SaleType' ) : train_data[col] = train_data[col].fillna('Missing')\n",
    "for col in ('MSZoning','Utilities','MasVnrType',\n",
    "            'BsmtQual','BsmtCond','BsmtExposure','BsmtFinType1','BsmtFinType2',\n",
    "            'KitchenQual','Functional','FireplaceQu','GarageType','GarageFinish',\n",
    "            'GarageQual','GarageCond','SaleType','BsmtFinSF1','BsmtFinSF2') : test_data[col] = test_data[col].fillna('Missing')\n",
    "train_data['LotFrontage'] = train_data['LotFrontage'].fillna(train_data['LotFrontage'].mode()[0])\n",
    "train_data['MasVnrArea'] = train_data['MasVnrArea'].fillna(train_data['MasVnrArea'].mode()[0])\n",
    "train_data['Electrical'] = train_data['Electrical'].fillna(train_data['Electrical'].mode()[0])\n",
    "train_data['GarageYrBlt'] = train_data['GarageYrBlt'].fillna(train_data['GarageYrBlt'].mode()[0])\n",
    "train_data['GarageCars'] = train_data['GarageCars'].fillna(0)\n",
    "train_data['GarageArea'] = train_data['GarageArea'].fillna(0)\n",
    "test_data ['LotFrontage'] = test_data['LotFrontage'].fillna(test_data['LotFrontage'].mode()[0])\n",
    "test_data ['MasVnrArea'] = test_data['MasVnrArea'].fillna(test_data['MasVnrArea'].mode()[0])\n",
    "test_data ['GarageYrBlt'] = test_data['GarageYrBlt'].fillna(test_data['GarageYrBlt'].mode()[0])\n",
    "test_data ['BsmtUnfSF'] = test_data['BsmtUnfSF'].fillna(test_data['BsmtUnfSF'].mode()[0])\n",
    "test_data ['TotalBsmtSF'] = test_data['TotalBsmtSF'].fillna(test_data['TotalBsmtSF'].mode()[0])\n",
    "test_data ['BsmtFullBath'] = test_data['BsmtFullBath'].fillna(test_data['BsmtFullBath'].mode()[0])\n",
    "test_data ['BsmtHalfBath'] = test_data['BsmtHalfBath'].fillna(test_data['BsmtHalfBath'].mode()[0])\n",
    "test_data ['GarageCars'] = test_data['GarageCars'].fillna(0)\n",
    "test_data ['GarageArea'] = test_data['GarageArea'].fillna(0)"
   ]
  },
  {
   "cell_type": "code",
   "execution_count": null,
   "metadata": {},
   "outputs": [],
   "source": [
    "#Convert Categorical into numerical 1 - identify categorical columns in test data\n",
    "from sklearn.preprocessing import LabelEncoder\n",
    "cat_test_data = test_data.select_dtypes(include=['object']).copy()\n",
    "cat_test_data.columns"
   ]
  },
  {
   "cell_type": "code",
   "execution_count": null,
   "metadata": {},
   "outputs": [],
   "source": [
    "#Convert Categorical into numerical 2 - identify categorical values in train data\n",
    "cat_train_data = train_data.select_dtypes(include=['object']).copy()\n",
    "cat_train_data.columns"
   ]
  },
  {
   "cell_type": "code",
   "execution_count": null,
   "metadata": {},
   "outputs": [],
   "source": [
    "#Convert Categorical into numerical 3 - convert test categorical using LabelEncoder\n",
    "categoricals = ('MSZoning', 'LotFrontage', 'Street', 'LotShape', 'LandContour',\n",
    "       'Utilities', 'LotConfig', 'Neighborhood', 'BldgType',\n",
    "       'HouseStyle', 'RoofStyle', 'RoofMatl', 'MasVnrType', 'MasVnrArea', 'ExterQual',\n",
    "       'ExterCond', 'Foundation', 'BsmtQual', 'BsmtCond', 'BsmtExposure',\n",
    "       'BsmtFinType1', 'BsmtFinSF1', 'BsmtFinType2', 'BsmtFinSF2', 'BsmtUnfSF',\n",
    "       'TotalBsmtSF', 'Heating', 'HeatingQC', 'CentralAir', 'Electrical',\n",
    "       'BsmtFullBath', 'BsmtHalfBath', 'KitchenQual', 'Functional',\n",
    "       'FireplaceQu', 'GarageType', 'GarageFinish', 'GarageQual',\n",
    "       'GarageCond', 'PavedDrive', 'SaleType', 'SaleCondition')\n",
    "for i in categoricals:\n",
    "    labeler = LabelEncoder()\n",
    "    labeler.fit(list(test_data[i].values))\n",
    "    test_data[i] = labeler.transform(list(test_data[i].values))\n",
    "test_data.head()"
   ]
  },
  {
   "cell_type": "code",
   "execution_count": null,
   "metadata": {},
   "outputs": [],
   "source": [
    "#Convert Categorical into numerical 4 - convert train categorical using LabelEncoder\n",
    "categoricals = ('MSZoning', 'LotFrontage', 'Street', 'LotShape', 'LandContour',\n",
    "       'Utilities', 'LotConfig', 'Neighborhood', 'BldgType', 'HouseStyle',\n",
    "       'RoofStyle', 'RoofMatl', 'MasVnrType', 'MasVnrArea', 'ExterQual',\n",
    "       'ExterCond', 'Foundation', 'BsmtQual', 'BsmtCond', 'BsmtExposure',\n",
    "       'BsmtFinType1', 'BsmtFinType2', 'Heating', 'HeatingQC', 'CentralAir',\n",
    "       'Electrical', 'KitchenQual', 'Functional', 'FireplaceQu', 'GarageType',\n",
    "       'GarageFinish', 'GarageQual', 'GarageCond', 'PavedDrive',\n",
    "       'SaleType', 'SaleCondition')\n",
    "for i in categoricals:\n",
    "    labeler = LabelEncoder()\n",
    "    labeler.fit(list(train_data[i].values))\n",
    "    train_data[i] = labeler.transform(list(train_data[i].values))\n",
    "train_data.head()\n",
    "\n",
    "test_data.to_csv('test_data_clean.csv')\n",
    "train_data.to_csv('train_data_clean.csv')"
   ]
  }
 ],
 "metadata": {
  "language_info": {
   "name": "python"
  },
  "orig_nbformat": 4
 },
 "nbformat": 4,
 "nbformat_minor": 2
}
