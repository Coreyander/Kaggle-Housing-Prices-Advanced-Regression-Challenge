{
 "cells": [
  {
   "cell_type": "code",
   "execution_count": null,
   "metadata": {},
   "outputs": [],
   "source": [
    "import lightgbm as lgb\n",
    "import pandas as pd\n",
    "import numpy as np\n",
    "from sklearn.model_selection import train_test_split\n",
    "from sklearn import metrics\n",
    "\n",
    "\n",
    "#run cleaning.ipynb to get clean data sets from the test and train csv provided by Kaggle.\n",
    "test_data = pd.read_csv(\"test_data_clean.csv\")\n",
    "train_data = pd.read_csv(\"train_data_clean.csv\")"
   ]
  },
  {
   "cell_type": "code",
   "execution_count": null,
   "metadata": {},
   "outputs": [],
   "source": [
    "# train and test split\n",
    "\n",
    "#Remove prices for blind testing. Save for fitting. Save copy as saleprices_actual for RMSE evaluation later\n",
    "y_train = train_data.SalePrice.values\n",
    "saleprices_actual = train_data.SalePrice.values\n",
    "train_data.drop(['SalePrice'], axis = 1, inplace = True)\n",
    "\n",
    "x_train = train_data.values\n",
    "x_train,x_test,y_train,y_test = train_test_split(x_train,y_train,test_size=0.40,random_state=0)"
   ]
  },
  {
   "cell_type": "code",
   "execution_count": null,
   "metadata": {},
   "outputs": [],
   "source": [
    "#Cross validation analysis\n",
    "train_dataset = lgb.Dataset(x_train, y_train)\n",
    "test_dataset = lgb.Dataset(x_test, y_test)\n",
    "params = {\n",
    "    \"objective\" : \"regression\",\n",
    "    \"max_depth\" : 7,\n",
    "    \"task\" : \"train\",\n",
    "    \"learning_rate\" : 0.1,\n",
    "    \"subsample\" : 0.8,\n",
    "    \"boosting_type\" : \"gbdt\",\n",
    "    \"num_leaves\" : 31\n",
    "}\n",
    "booster = lgb.train(params,\n",
    "                    train_set=train_dataset, valid_sets=(test_dataset,),\n",
    "                    num_boost_round=10)\n",
    "\n",
    "from sklearn.metrics import r2_score\n",
    "test_predictions = booster.predict(x_test)\n",
    "train_predictions = booster.predict(x_train)\n",
    "\n",
    "print(\"\\nTest  R2 Score : %.2f\"%r2_score(y_test, test_predictions))\n",
    "print(\"Train R2 Score : %.2f\"%r2_score(y_train, train_predictions))"
   ]
  },
  {
   "cell_type": "code",
   "execution_count": null,
   "metadata": {},
   "outputs": [],
   "source": [
    "from sklearn.metrics import r2_score\n",
    "test_predictions = booster.predict(x_test)\n",
    "train_predictions = booster.predict(x_train)\n",
    "\n",
    "print(\"\\nTest  R2 Score : %.2f\"%r2_score(y_test, test_predictions))\n",
    "print(\"Train R2 Score : %.2f\"%r2_score(y_train, train_predictions))"
   ]
  },
  {
   "cell_type": "code",
   "execution_count": null,
   "metadata": {},
   "outputs": [],
   "source": [
    "#LightGBM modeling\n",
    "model = lgb.LGBMClassifier(learning_rate=0.1,max_depth=7,task='train',\n",
    "                           objective='regression',subsample=0.8, boosting_type='gbdt',\n",
    "                           num_leaves = 31)\n",
    "model.fit(x_train,y_train,eval_set=[(x_train, y_train)])"
   ]
  },
  {
   "cell_type": "code",
   "execution_count": null,
   "metadata": {},
   "outputs": [],
   "source": [
    "#Visualization of price predictions\n",
    "ID = train_data.Id\n",
    "price_predictions = model.predict(train_data)\n",
    "Predictions = pd.DataFrame({'ID' : ID, 'Price Prediction' : price_predictions})\n",
    "pd.set_option(\"display.max_rows\", None, \"display.max_columns\", None)\n",
    "Predictions"
   ]
  },
  {
   "cell_type": "code",
   "execution_count": null,
   "metadata": {},
   "outputs": [],
   "source": [
    "#Calculate RMSE\n",
    "from sklearn.metrics import mean_squared_error\n",
    "from math import sqrt\n",
    "y_train.shape\n",
    "price_predictions.shape\n",
    "sqrt(mean_squared_error(saleprices_actual, price_predictions)) "
   ]
  }
 ],
 "metadata": {
  "language_info": {
   "name": "python"
  },
  "orig_nbformat": 4
 },
 "nbformat": 4,
 "nbformat_minor": 2
}
