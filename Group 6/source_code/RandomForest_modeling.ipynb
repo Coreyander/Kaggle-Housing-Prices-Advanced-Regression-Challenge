{
 "cells": [
  {
   "cell_type": "code",
   "execution_count": null,
   "metadata": {},
   "outputs": [],
   "source": [
    "import matplotlib.pyplot as plt  # To visualize\n",
    "import pandas as pd  \n",
    "import seaborn as sn\n",
    "from sklearn.linear_model import LinearRegression"
   ]
  },
  {
   "cell_type": "code",
   "execution_count": null,
   "metadata": {},
   "outputs": [],
   "source": [
    "train = pd.read_csv('../input/house-prices-advanced-regression-techniques/train.csv')\n",
    "train.columns"
   ]
  },
  {
   "cell_type": "code",
   "execution_count": null,
   "metadata": {},
   "outputs": [],
   "source": [
    "train.dropna(axis=0, subset=['SalePrice'], inplace=True)\n",
    "train1 = train.fillna(\"Missing\")                                 \n",
    "candidate_train_predictors = train1.drop(['Id', 'SalePrice'], axis=1)\n",
    "numeric_train_predictors = train1.select_dtypes(include='number')\n",
    "numeric_train_predictors.drop(['Id','MSSubClass','OverallQual','OverallCond','YearBuilt','YearRemodAdd','YrSold','GarageCars','Fireplaces','MoSold','SalePrice'], axis=1, inplace=True)"
   ]
  },
  {
   "cell_type": "code",
   "execution_count": null,
   "metadata": {},
   "outputs": [],
   "source": [
    "print(numeric_train_predictors.columns.tolist())"
   ]
  },
  {
   "cell_type": "code",
   "execution_count": null,
   "metadata": {},
   "outputs": [],
   "source": [
    "for feature_name in train1.columns:\n",
    "    if (feature_name in numeric_train_predictors.columns):\n",
    "        max_value = train1[feature_name].max()\n",
    "        min_value = train1[feature_name].min()\n",
    "        candidate_train_predictors[feature_name] = (train1[feature_name] - min_value) / (max_value - min_value)\n",
    "candidate_train_predictors"
   ]
  },
  {
   "cell_type": "code",
   "execution_count": null,
   "metadata": {},
   "outputs": [],
   "source": [
    "ohe_train = pd.get_dummies(candidate_train_predictors)"
   ]
  },
  {
   "cell_type": "code",
   "execution_count": null,
   "metadata": {},
   "outputs": [],
   "source": [
    "from sklearn.model_selection import cross_val_score\n",
    "from sklearn.ensemble import RandomForestRegressor\n",
    "import math\n",
    "math.sqrt(-1 * cross_val_score(RandomForestRegressor(100), ohe_train, train[\"SalePrice\"], scoring = 'neg_mean_squared_error').mean())"
   ]
  },
  {
   "cell_type": "code",
   "execution_count": null,
   "metadata": {},
   "outputs": [],
   "source": [
    "corrMatrix = train.corr()\n",
    "sn.heatmap(corrMatrix, cmap=\"YlGnBu\", annot=False)\n",
    "plt.show()"
   ]
  },
  {
   "cell_type": "code",
   "execution_count": null,
   "metadata": {},
   "outputs": [],
   "source": [
    "qualData = train[['OverallQual']].copy()\n",
    "grLivData = train[['GrLivArea']].copy()\n",
    "garageCarsData = train[['GarageCars']].copy()\n",
    "garageAreaData = train[['GarageArea']].copy()\n",
    "targetData = train[['SalePrice']].copy()\n",
    "groupedData = train[['OverallQual','GrLivArea','GarageCars','GarageArea']].copy()\n",
    "\n",
    "print(train.columns[train.isna().any()].tolist())"
   ]
  },
  {
   "cell_type": "code",
   "execution_count": null,
   "metadata": {},
   "outputs": [],
   "source": [
    "linear_regressor = LinearRegression()  # create object for the class\n",
    "reg = linear_regressor.fit(qualData, targetData)  # perform linear regression\n",
    "Y_pred = linear_regressor.predict(qualData)  # make predictions\n",
    "plt.scatter(qualData, targetData)\n",
    "plt.plot(qualData, Y_pred, color='red')\n",
    "plt.show()\n",
    "reg.score(qualData, targetData)"
   ]
  },
  {
   "cell_type": "code",
   "execution_count": null,
   "metadata": {},
   "outputs": [],
   "source": [
    "linear_regressor = LinearRegression()  # create object for the class\n",
    "reg = linear_regressor.fit(grLivData, targetData)  # perform linear regression\n",
    "Y_pred = linear_regressor.predict(grLivData)  # make predictions\n",
    "plt.scatter(grLivData, targetData)\n",
    "plt.plot(grLivData, Y_pred, color='red')\n",
    "plt.show()\n",
    "reg.score(grLivData, targetData)"
   ]
  },
  {
   "cell_type": "code",
   "execution_count": null,
   "metadata": {},
   "outputs": [],
   "source": [
    "linear_regressor = LinearRegression()  # create object for the class\n",
    "reg = linear_regressor.fit(garageCarsData, targetData)  # perform linear regression\n",
    "Y_pred = linear_regressor.predict(garageCarsData)  # make predictions\n",
    "plt.scatter(garageCarsData, targetData)\n",
    "plt.plot(garageCarsData, Y_pred, color='red')\n",
    "plt.show()\n",
    "reg.score(garageCarsData, targetData)"
   ]
  },
  {
   "cell_type": "code",
   "execution_count": null,
   "metadata": {},
   "outputs": [],
   "source": [
    "linear_regressor = LinearRegression()  # create object for the class\n",
    "reg = linear_regressor.fit(garageAreaData, targetData)  # perform linear regression\n",
    "Y_pred = linear_regressor.predict(garageAreaData)  # make predictions\n",
    "plt.scatter(garageAreaData, targetData)\n",
    "plt.plot(garageAreaData, Y_pred, color='red')\n",
    "plt.show()\n",
    "reg.score(garageAreaData, targetData)"
   ]
  },
  {
   "cell_type": "code",
   "execution_count": null,
   "metadata": {},
   "outputs": [],
   "source": [
    "linear_regressor = LinearRegression()  # create object for the class\n",
    "reg = linear_regressor.fit(groupedData, targetData)  # perform linear regression\n",
    "Y_pred = linear_regressor.predict(groupedData)  # make predictions\n",
    "reg.score(groupedData, targetData)"
   ]
  },
  {
   "cell_type": "code",
   "execution_count": null,
   "metadata": {},
   "outputs": [],
   "source": [
    "math.sqrt(-1 * cross_val_score(RandomForestRegressor(100), groupedData, targetData['SalePrice'], scoring = 'neg_mean_squared_error').mean())"
   ]
  },
  {
   "cell_type": "code",
   "execution_count": null,
   "metadata": {},
   "outputs": [],
   "source": [
    "train_data1 = train.copy()\n",
    "\n",
    "train_data1.drop(['Alley','PoolQC','Fence','MiscFeature','LandSlope',\n",
    "                'Condition1','Condition2','Exterior1st','Exterior2nd'], axis = 1, inplace=True)\n",
    "\n",
    "for col in ('MSZoning','Utilities','MasVnrType',\n",
    "            'BsmtQual','BsmtCond','BsmtExposure','BsmtFinType1','BsmtFinType2',\n",
    "            'KitchenQual','Functional','FireplaceQu','GarageType','GarageFinish',\n",
    "            'GarageQual','GarageCond','SaleType' ) : train_data1[col] = train_data1[col].fillna('Missing')\n",
    "train_data1['LotFrontage'] = train_data1['LotFrontage'].fillna(train_data1['LotFrontage'].mode()[0])\n",
    "train_data1['MasVnrArea'] = train_data1['MasVnrArea'].fillna(train_data1['MasVnrArea'].mode()[0])\n",
    "train_data1['Electrical'] = train_data1['Electrical'].fillna(train_data1['Electrical'].mode()[0])\n",
    "train_data1['GarageYrBlt'] = train_data1['GarageYrBlt'].fillna(train_data1['GarageYrBlt'].mode()[0])\n",
    "train_data1['GarageCars'] = train_data1['GarageCars'].fillna(0)\n",
    "train_data1['GarageArea'] = train_data1['GarageArea'].fillna(0)\n",
    "candidate_train_predictors1 = train_data1.drop(['Id', 'SalePrice'], axis=1)\n",
    "ohe_train1 = pd.get_dummies(candidate_train_predictors1)"
   ]
  },
  {
   "cell_type": "code",
   "execution_count": null,
   "metadata": {},
   "outputs": [],
   "source": [
    "math.sqrt(-1 * cross_val_score(RandomForestRegressor(100), ohe_train1, train[\"SalePrice\"], scoring = 'neg_mean_squared_error').mean())"
   ]
  },
  {
   "cell_type": "code",
   "execution_count": null,
   "metadata": {},
   "outputs": [],
   "source": [
    "from sklearn.model_selection import train_test_split\n",
    "x_train,x_test,y_train,y_test = train_test_split(ohe_train,train[\"SalePrice\"],test_size=0.33,random_state=0)\n",
    "print(x_train.shape)\n",
    "print(x_test.shape)"
   ]
  },
  {
   "cell_type": "code",
   "execution_count": null,
   "metadata": {},
   "outputs": [],
   "source": [
    "from sklearn.metrics import mean_squared_error\n",
    "regr = RandomForestRegressor()\n",
    "regr.fit(x_train, y_train)\n",
    "output = regr.predict(x_test)\n",
    "math.sqrt(mean_squared_error(output, y_test))"
   ]
  },
  {
   "cell_type": "code",
   "execution_count": null,
   "metadata": {},
   "outputs": [],
   "source": [
    "x_train1,x_test1,y_train1,y_test1 = train_test_split(ohe_train1,train[\"SalePrice\"],test_size=0.33,random_state=0)\n",
    "print(x_train1.shape)\n",
    "print(x_test1.shape)"
   ]
  },
  {
   "cell_type": "code",
   "execution_count": null,
   "metadata": {},
   "outputs": [],
   "source": [
    "regr.fit(x_train1, y_train1)\n",
    "output = regr.predict(x_test1)\n",
    "math.sqrt(mean_squared_error(output, y_test1))"
   ]
  },
  {
   "cell_type": "code",
   "execution_count": null,
   "metadata": {},
   "outputs": [],
   "source": [
    "x_train2,x_test2,y_train2,y_test2 = train_test_split(groupedData,train[\"SalePrice\"],test_size=0.33,random_state=0)\n",
    "print(x_train2.shape)\n",
    "print(x_test2.shape)"
   ]
  },
  {
   "cell_type": "code",
   "execution_count": null,
   "metadata": {},
   "outputs": [],
   "source": [
    "regr.fit(x_train2, y_train2)\n",
    "output = regr.predict(x_test2)\n",
    "math.sqrt(mean_squared_error(output, y_test2))"
   ]
  }
 ],
 "metadata": {
  "language_info": {
   "name": "python"
  },
  "orig_nbformat": 4
 },
 "nbformat": 4,
 "nbformat_minor": 2
}
